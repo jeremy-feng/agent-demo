{
 "cells": [
  {
   "cell_type": "code",
   "execution_count": 1,
   "metadata": {},
   "outputs": [],
   "source": [
    "from agent_demo import make_summarize_web_agent\n"
   ]
  },
  {
   "cell_type": "code",
   "execution_count": 2,
   "metadata": {},
   "outputs": [],
   "source": [
    "graph = make_summarize_web_agent()\n",
    "result = graph.invoke(\n",
    "    {\n",
    "        \"url\": \"https://langchain-ai.github.io/langgraph/\",\n",
    "        \"markdown\": None,\n",
    "        \"summary\": None,\n",
    "        \"messages\": [],\n",
    "    }\n",
    ")"
   ]
  },
  {
   "cell_type": "code",
   "execution_count": 3,
   "metadata": {},
   "outputs": [
    {
     "data": {
      "text/plain": [
       "{'url': 'https://langchain-ai.github.io/langgraph/',\n",
       " 'markdown': \"## LangGraph\\n\\n**Why use LangGraph?**\\n\\nLangGraph is built for developers who want to build powerful, adaptable AI agents. Developers choose LangGraph for:\\n\\n*   **Reliability and controllability:** Steer agent actions with moderation checks and human-in-the-loop approvals. LangGraph persists context for long-running workflows, keeping your agents on course.\\n*   **Low-level and extensible:** Build custom agents with fully descriptive, low-level primitives—free from rigid abstractions that limit customization. Design scalable multi-agent systems, with each agent serving a specific role tailored to your use case.\\n*   **First-class streaming support:** With token-by-token streaming and streaming of intermediate steps, LangGraph gives users clear visibility into agent reasoning and actions as they unfold in real time.\\n\\n**LangGraph is trusted in production and powering agents for companies like:**\\n\\n*   Klarna: Customer support bot for 85 million active users\\n*   Elastic: Security AI assistant for threat detection\\n*   Uber: Automated unit test generation\\n*   Replit: Code generation\\n*   And many more (see list here)\\n\\n**LangGraph's ecosystem**\\n\\nWhile LangGraph can be used standalone, it also integrates seamlessly with any LangChain product, giving developers a full suite of tools for building agents. To improve your LLM application development, pair LangGraph with:\\n\\n*   LangSmith: Helpful for agent evals and observability. Debug poor-performing LLM app runs, evaluate agent trajectories, gain visibility in production, and improve performance over time.\\n*   LangGraph Platform: Deploy and scale agents effortlessly with a purpose-built deployment platform for long running, stateful workflows. Discover, reuse, configure, and share agents across teams—and iterate quickly with visual prototyping in LangGraph Studio.\\n\\n**Pairing with LangGraph Platform**\\n\\nWhile LangGraph is our open-source agent orchestration framework, enterprises that need scalable agent deployment can benefit from LangGraph Platform. LangGraph Platform can help engineering teams:\\n\\n*   **Accelerate agent development:** Quickly create agent UXs with configurable templates and LangGraph Studio for visualizing and debugging agent interactions.\\n*   **Deploy seamlessly:** We handle the complexity of deploying your agent. LangGraph Platform includes robust APIs for memory, threads, and cron jobs plus auto-scaling task queues & servers.\\n*   **Centralize agent management & reusability:** Discover, reuse, and manage agents across the organization. Business users can also modify agents without coding.\\n\\n**Additional resources**\\n\\n*   LangChain Academy: Learn the basics of LangGraph in our free, structured course.\\n*   Tutorials: Simple walkthroughs with guided examples on getting started with LangGraph.\\n*   Templates: Pre-built reference apps for common agentic workflows (e.g., ReAct agent, memory, retrieval etc.) that can be cloned and adapted.\\n*   How-to Guides: Quick, actionable code snippets for topics such as streaming, adding memory & persistence, and design patterns (e.g., branching, subgraphs, etc.).\\n*   API Reference: Detailed reference on core classes, methods, how to use the graph and checkpointing APIs, and higher-level prebuilt components.\\n*   Built with LangGraph: Hear how industry leaders use LangGraph to ship powerful, production-ready AI applications.\\n\\n**Acknowledgements**\\n\\nLangGraph is inspired by Pregel and Apache Beam. The public interface draws inspiration from NetworkX. LangGraph is built by LangChain Inc, the creators of LangChain, but can be used without LangChain.\\n\",\n",
       " 'summary': '**Summary of LangGraph:**\\n\\nLangGraph is a powerful, extensible framework for building customizable AI agents, trusted by companies like Klarna, Elastic, Uber, and Replit. Key features include:  \\n\\n- **Reliability & Control:** Supports moderation checks, human approvals, and persistent context for long-running workflows.  \\n- **Flexibility:** Low-level primitives enable custom agent designs and scalable multi-agent systems.  \\n- **Streaming:** Real-time visibility into agent reasoning via token-by-token and intermediate step streaming.  \\n\\n**Ecosystem & Integration:**  \\n- Works standalone or with **LangChain** tools like **LangSmith** (observability/evals) and **LangGraph Platform** (deployment/scaling).  \\n- **LangGraph Platform** offers templating, visual debugging, auto-scaling, and centralized agent management for enterprises.  \\n\\n**Resources:**  \\n- Free courses (LangChain Academy), tutorials, templates, and API docs.  \\n- Inspired by Pregel, Apache Beam, and NetworkX.  \\n\\nBuilt by LangChain Inc., LangGraph is production-ready for complex AI workflows.',\n",
       " 'messages': [HumanMessage(content=\"Summarize the following text: ## LangGraph\\n\\n**Why use LangGraph?**\\n\\nLangGraph is built for developers who want to build powerful, adaptable AI agents. Developers choose LangGraph for:\\n\\n*   **Reliability and controllability:** Steer agent actions with moderation checks and human-in-the-loop approvals. LangGraph persists context for long-running workflows, keeping your agents on course.\\n*   **Low-level and extensible:** Build custom agents with fully descriptive, low-level primitives—free from rigid abstractions that limit customization. Design scalable multi-agent systems, with each agent serving a specific role tailored to your use case.\\n*   **First-class streaming support:** With token-by-token streaming and streaming of intermediate steps, LangGraph gives users clear visibility into agent reasoning and actions as they unfold in real time.\\n\\n**LangGraph is trusted in production and powering agents for companies like:**\\n\\n*   Klarna: Customer support bot for 85 million active users\\n*   Elastic: Security AI assistant for threat detection\\n*   Uber: Automated unit test generation\\n*   Replit: Code generation\\n*   And many more (see list here)\\n\\n**LangGraph's ecosystem**\\n\\nWhile LangGraph can be used standalone, it also integrates seamlessly with any LangChain product, giving developers a full suite of tools for building agents. To improve your LLM application development, pair LangGraph with:\\n\\n*   LangSmith: Helpful for agent evals and observability. Debug poor-performing LLM app runs, evaluate agent trajectories, gain visibility in production, and improve performance over time.\\n*   LangGraph Platform: Deploy and scale agents effortlessly with a purpose-built deployment platform for long running, stateful workflows. Discover, reuse, configure, and share agents across teams—and iterate quickly with visual prototyping in LangGraph Studio.\\n\\n**Pairing with LangGraph Platform**\\n\\nWhile LangGraph is our open-source agent orchestration framework, enterprises that need scalable agent deployment can benefit from LangGraph Platform. LangGraph Platform can help engineering teams:\\n\\n*   **Accelerate agent development:** Quickly create agent UXs with configurable templates and LangGraph Studio for visualizing and debugging agent interactions.\\n*   **Deploy seamlessly:** We handle the complexity of deploying your agent. LangGraph Platform includes robust APIs for memory, threads, and cron jobs plus auto-scaling task queues & servers.\\n*   **Centralize agent management & reusability:** Discover, reuse, and manage agents across the organization. Business users can also modify agents without coding.\\n\\n**Additional resources**\\n\\n*   LangChain Academy: Learn the basics of LangGraph in our free, structured course.\\n*   Tutorials: Simple walkthroughs with guided examples on getting started with LangGraph.\\n*   Templates: Pre-built reference apps for common agentic workflows (e.g., ReAct agent, memory, retrieval etc.) that can be cloned and adapted.\\n*   How-to Guides: Quick, actionable code snippets for topics such as streaming, adding memory & persistence, and design patterns (e.g., branching, subgraphs, etc.).\\n*   API Reference: Detailed reference on core classes, methods, how to use the graph and checkpointing APIs, and higher-level prebuilt components.\\n*   Built with LangGraph: Hear how industry leaders use LangGraph to ship powerful, production-ready AI applications.\\n\\n**Acknowledgements**\\n\\nLangGraph is inspired by Pregel and Apache Beam. The public interface draws inspiration from NetworkX. LangGraph is built by LangChain Inc, the creators of LangChain, but can be used without LangChain.\\n\", additional_kwargs={}, response_metadata={}),\n",
       "  AIMessage(content='**Summary of LangGraph:**\\n\\nLangGraph is a powerful, extensible framework for building customizable AI agents, trusted by companies like Klarna, Elastic, Uber, and Replit. Key features include:  \\n\\n- **Reliability & Control:** Supports moderation checks, human approvals, and persistent context for long-running workflows.  \\n- **Flexibility:** Low-level primitives enable custom agent designs and scalable multi-agent systems.  \\n- **Streaming:** Real-time visibility into agent reasoning via token-by-token and intermediate step streaming.  \\n\\n**Ecosystem & Integration:**  \\n- Works standalone or with **LangChain** tools like **LangSmith** (observability/evals) and **LangGraph Platform** (deployment/scaling).  \\n- **LangGraph Platform** offers templating, visual debugging, auto-scaling, and centralized agent management for enterprises.  \\n\\n**Resources:**  \\n- Free courses (LangChain Academy), tutorials, templates, and API docs.  \\n- Inspired by Pregel, Apache Beam, and NetworkX.  \\n\\nBuilt by LangChain Inc., LangGraph is production-ready for complex AI workflows.', additional_kwargs={}, response_metadata={})]}"
      ]
     },
     "execution_count": 3,
     "metadata": {},
     "output_type": "execute_result"
    }
   ],
   "source": [
    "result"
   ]
  }
 ],
 "metadata": {
  "kernelspec": {
   "display_name": "agent",
   "language": "python",
   "name": "python3"
  },
  "language_info": {
   "codemirror_mode": {
    "name": "ipython",
    "version": 3
   },
   "file_extension": ".py",
   "mimetype": "text/x-python",
   "name": "python",
   "nbconvert_exporter": "python",
   "pygments_lexer": "ipython3",
   "version": "3.12.9"
  }
 },
 "nbformat": 4,
 "nbformat_minor": 2
}
